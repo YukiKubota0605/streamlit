{
 "cells": [
  {
   "cell_type": "code",
   "execution_count": 11,
   "metadata": {},
   "outputs": [],
   "source": [
    "import numpy as np\n",
    "import pandas as pd\n",
    "\n",
    "\n",
    "\n",
    "\n",
    "df = pd.read_csv(\"/Users/yukikubota/Desktop/Python/DataAnalitics/user_purchase.csv\")"
   ]
  },
  {
   "cell_type": "code",
   "execution_count": 12,
   "metadata": {},
   "outputs": [
    {
     "data": {
      "text/html": [
       "<div>\n",
       "<style scoped>\n",
       "    .dataframe tbody tr th:only-of-type {\n",
       "        vertical-align: middle;\n",
       "    }\n",
       "\n",
       "    .dataframe tbody tr th {\n",
       "        vertical-align: top;\n",
       "    }\n",
       "\n",
       "    .dataframe thead th {\n",
       "        text-align: right;\n",
       "    }\n",
       "</style>\n",
       "<table border=\"1\" class=\"dataframe\">\n",
       "  <thead>\n",
       "    <tr style=\"text-align: right;\">\n",
       "      <th></th>\n",
       "      <th>user_id</th>\n",
       "      <th>item_id</th>\n",
       "      <th>price</th>\n",
       "      <th>timestamp</th>\n",
       "    </tr>\n",
       "  </thead>\n",
       "  <tbody>\n",
       "    <tr>\n",
       "      <th>0</th>\n",
       "      <td>u00934</td>\n",
       "      <td>item03</td>\n",
       "      <td>100.0</td>\n",
       "      <td>2018/9/30 19:11</td>\n",
       "    </tr>\n",
       "    <tr>\n",
       "      <th>1</th>\n",
       "      <td>u00934</td>\n",
       "      <td>item04</td>\n",
       "      <td>100.0</td>\n",
       "      <td>2018/9/30 19:11</td>\n",
       "    </tr>\n",
       "    <tr>\n",
       "      <th>2</th>\n",
       "      <td>u00934</td>\n",
       "      <td>item05</td>\n",
       "      <td>100.0</td>\n",
       "      <td>2018/9/30 19:11</td>\n",
       "    </tr>\n",
       "    <tr>\n",
       "      <th>3</th>\n",
       "      <td>u01865</td>\n",
       "      <td>item02</td>\n",
       "      <td>100.0</td>\n",
       "      <td>2018/9/30 20:14</td>\n",
       "    </tr>\n",
       "    <tr>\n",
       "      <th>4</th>\n",
       "      <td>u01865</td>\n",
       "      <td>item04</td>\n",
       "      <td>100.0</td>\n",
       "      <td>2018/9/30 20:14</td>\n",
       "    </tr>\n",
       "    <tr>\n",
       "      <th>...</th>\n",
       "      <td>...</td>\n",
       "      <td>...</td>\n",
       "      <td>...</td>\n",
       "      <td>...</td>\n",
       "    </tr>\n",
       "    <tr>\n",
       "      <th>948</th>\n",
       "      <td>u00646</td>\n",
       "      <td>item03</td>\n",
       "      <td>100.0</td>\n",
       "      <td>2018/10/1 23:19</td>\n",
       "    </tr>\n",
       "    <tr>\n",
       "      <th>949</th>\n",
       "      <td>u00646</td>\n",
       "      <td>item05</td>\n",
       "      <td>100.0</td>\n",
       "      <td>2018/10/1 23:19</td>\n",
       "    </tr>\n",
       "    <tr>\n",
       "      <th>950</th>\n",
       "      <td>u00646</td>\n",
       "      <td>item06</td>\n",
       "      <td>200.0</td>\n",
       "      <td>2018/10/1 23:19</td>\n",
       "    </tr>\n",
       "    <tr>\n",
       "      <th>951</th>\n",
       "      <td>u01254</td>\n",
       "      <td>item02</td>\n",
       "      <td>100.0</td>\n",
       "      <td>2018/10/1 23:24</td>\n",
       "    </tr>\n",
       "    <tr>\n",
       "      <th>952</th>\n",
       "      <td>u01254</td>\n",
       "      <td>item05</td>\n",
       "      <td>100.0</td>\n",
       "      <td>2018/10/1 23:24</td>\n",
       "    </tr>\n",
       "  </tbody>\n",
       "</table>\n",
       "<p>953 rows × 4 columns</p>\n",
       "</div>"
      ],
      "text/plain": [
       "    user_id item_id  price        timestamp\n",
       "0    u00934  item03  100.0  2018/9/30 19:11\n",
       "1    u00934  item04  100.0  2018/9/30 19:11\n",
       "2    u00934  item05  100.0  2018/9/30 19:11\n",
       "3    u01865  item02  100.0  2018/9/30 20:14\n",
       "4    u01865  item04  100.0  2018/9/30 20:14\n",
       "..      ...     ...    ...              ...\n",
       "948  u00646  item03  100.0  2018/10/1 23:19\n",
       "949  u00646  item05  100.0  2018/10/1 23:19\n",
       "950  u00646  item06  200.0  2018/10/1 23:19\n",
       "951  u01254  item02  100.0  2018/10/1 23:24\n",
       "952  u01254  item05  100.0  2018/10/1 23:24\n",
       "\n",
       "[953 rows x 4 columns]"
      ]
     },
     "execution_count": 12,
     "metadata": {},
     "output_type": "execute_result"
    }
   ],
   "source": [
    "df"
   ]
  },
  {
   "cell_type": "code",
   "execution_count": 14,
   "metadata": {},
   "outputs": [
    {
     "data": {
      "text/plain": [
       "['user_id', 'item_id', 'price', 'timestamp']"
      ]
     },
     "execution_count": 14,
     "metadata": {},
     "output_type": "execute_result"
    }
   ],
   "source": [
    "list(df.columns)"
   ]
  },
  {
   "cell_type": "code",
   "execution_count": null,
   "metadata": {},
   "outputs": [],
   "source": []
  },
  {
   "cell_type": "code",
   "execution_count": null,
   "metadata": {},
   "outputs": [],
   "source": []
  }
 ],
 "metadata": {
  "kernelspec": {
   "display_name": "Python 3.8.5 64-bit ('base': conda)",
   "language": "python",
   "name": "python385jvsc74a57bd0cafe12590b0394544c4e51762f6e4dc4ec8288ca1fb4c88ceee068b764b0973c"
  },
  "language_info": {
   "codemirror_mode": {
    "name": "ipython",
    "version": 3
   },
   "file_extension": ".py",
   "mimetype": "text/x-python",
   "name": "python",
   "nbconvert_exporter": "python",
   "pygments_lexer": "ipython3",
   "version": "3.8.5"
  }
 },
 "nbformat": 4,
 "nbformat_minor": 4
}
