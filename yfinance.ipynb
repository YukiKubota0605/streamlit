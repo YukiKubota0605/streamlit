{
 "cells": [
  {
   "cell_type": "code",
   "execution_count": 31,
   "metadata": {},
   "outputs": [],
   "source": [
    "import pandas as pd\n",
    "import matplotlib.pyplot as plt\n",
    "import yfinance as yf"
   ]
  },
  {
   "cell_type": "code",
   "execution_count": 32,
   "metadata": {},
   "outputs": [],
   "source": [
    "#Tcikerの取得\n",
    "aapl = yf.Ticker(\"AAPL\")"
   ]
  },
  {
   "cell_type": "code",
   "execution_count": 33,
   "metadata": {},
   "outputs": [
    {
     "output_type": "execute_result",
     "data": {
      "text/plain": [
       "                  Open        High         Low       Close    Volume  \\\n",
       "Date                                                                   \n",
       "2021-05-17  126.820000  126.930000  125.169998  126.269997  74244600   \n",
       "2021-05-18  126.559998  126.989998  124.779999  124.849998  63342900   \n",
       "2021-05-19  123.160004  124.919998  122.860001  124.690002  92612000   \n",
       "2021-05-20  125.230003  127.720001  125.099998  127.309998  76756000   \n",
       "2021-05-21  127.820000  128.000000  125.209999  125.430000  79209300   \n",
       "2021-05-24  126.010002  127.940002  125.940002  127.099998  63092900   \n",
       "2021-05-25  127.820000  128.320007  126.320000  126.900002  72009500   \n",
       "2021-05-26  126.959999  127.389999  126.419998  126.849998  56575900   \n",
       "2021-05-27  126.440002  127.639999  125.080002  125.279999  94625600   \n",
       "2021-05-28  125.570000  125.800003  124.550003  124.610001  71232700   \n",
       "\n",
       "            Dividends  Stock Splits  \n",
       "Date                                 \n",
       "2021-05-17          0             0  \n",
       "2021-05-18          0             0  \n",
       "2021-05-19          0             0  \n",
       "2021-05-20          0             0  \n",
       "2021-05-21          0             0  \n",
       "2021-05-24          0             0  \n",
       "2021-05-25          0             0  \n",
       "2021-05-26          0             0  \n",
       "2021-05-27          0             0  \n",
       "2021-05-28          0             0  "
      ],
      "text/html": "<div>\n<style scoped>\n    .dataframe tbody tr th:only-of-type {\n        vertical-align: middle;\n    }\n\n    .dataframe tbody tr th {\n        vertical-align: top;\n    }\n\n    .dataframe thead th {\n        text-align: right;\n    }\n</style>\n<table border=\"1\" class=\"dataframe\">\n  <thead>\n    <tr style=\"text-align: right;\">\n      <th></th>\n      <th>Open</th>\n      <th>High</th>\n      <th>Low</th>\n      <th>Close</th>\n      <th>Volume</th>\n      <th>Dividends</th>\n      <th>Stock Splits</th>\n    </tr>\n    <tr>\n      <th>Date</th>\n      <th></th>\n      <th></th>\n      <th></th>\n      <th></th>\n      <th></th>\n      <th></th>\n      <th></th>\n    </tr>\n  </thead>\n  <tbody>\n    <tr>\n      <th>2021-05-17</th>\n      <td>126.820000</td>\n      <td>126.930000</td>\n      <td>125.169998</td>\n      <td>126.269997</td>\n      <td>74244600</td>\n      <td>0</td>\n      <td>0</td>\n    </tr>\n    <tr>\n      <th>2021-05-18</th>\n      <td>126.559998</td>\n      <td>126.989998</td>\n      <td>124.779999</td>\n      <td>124.849998</td>\n      <td>63342900</td>\n      <td>0</td>\n      <td>0</td>\n    </tr>\n    <tr>\n      <th>2021-05-19</th>\n      <td>123.160004</td>\n      <td>124.919998</td>\n      <td>122.860001</td>\n      <td>124.690002</td>\n      <td>92612000</td>\n      <td>0</td>\n      <td>0</td>\n    </tr>\n    <tr>\n      <th>2021-05-20</th>\n      <td>125.230003</td>\n      <td>127.720001</td>\n      <td>125.099998</td>\n      <td>127.309998</td>\n      <td>76756000</td>\n      <td>0</td>\n      <td>0</td>\n    </tr>\n    <tr>\n      <th>2021-05-21</th>\n      <td>127.820000</td>\n      <td>128.000000</td>\n      <td>125.209999</td>\n      <td>125.430000</td>\n      <td>79209300</td>\n      <td>0</td>\n      <td>0</td>\n    </tr>\n    <tr>\n      <th>2021-05-24</th>\n      <td>126.010002</td>\n      <td>127.940002</td>\n      <td>125.940002</td>\n      <td>127.099998</td>\n      <td>63092900</td>\n      <td>0</td>\n      <td>0</td>\n    </tr>\n    <tr>\n      <th>2021-05-25</th>\n      <td>127.820000</td>\n      <td>128.320007</td>\n      <td>126.320000</td>\n      <td>126.900002</td>\n      <td>72009500</td>\n      <td>0</td>\n      <td>0</td>\n    </tr>\n    <tr>\n      <th>2021-05-26</th>\n      <td>126.959999</td>\n      <td>127.389999</td>\n      <td>126.419998</td>\n      <td>126.849998</td>\n      <td>56575900</td>\n      <td>0</td>\n      <td>0</td>\n    </tr>\n    <tr>\n      <th>2021-05-27</th>\n      <td>126.440002</td>\n      <td>127.639999</td>\n      <td>125.080002</td>\n      <td>125.279999</td>\n      <td>94625600</td>\n      <td>0</td>\n      <td>0</td>\n    </tr>\n    <tr>\n      <th>2021-05-28</th>\n      <td>125.570000</td>\n      <td>125.800003</td>\n      <td>124.550003</td>\n      <td>124.610001</td>\n      <td>71232700</td>\n      <td>0</td>\n      <td>0</td>\n    </tr>\n  </tbody>\n</table>\n</div>"
     },
     "metadata": {},
     "execution_count": 33
    }
   ],
   "source": [
    "#Appleの株価を10日分取得する\n",
    "days = 10\n",
    "hist = aapl.history(period=f\"{days}d\")\n",
    "hist"
   ]
  },
  {
   "cell_type": "code",
   "execution_count": 34,
   "metadata": {},
   "outputs": [
    {
     "output_type": "execute_result",
     "data": {
      "text/plain": [
       "        Date        Open        High         Low       Close    Volume  \\\n",
       "0 2021-05-17  126.820000  126.930000  125.169998  126.269997  74244600   \n",
       "1 2021-05-18  126.559998  126.989998  124.779999  124.849998  63342900   \n",
       "2 2021-05-19  123.160004  124.919998  122.860001  124.690002  92612000   \n",
       "3 2021-05-20  125.230003  127.720001  125.099998  127.309998  76756000   \n",
       "4 2021-05-21  127.820000  128.000000  125.209999  125.430000  79209300   \n",
       "5 2021-05-24  126.010002  127.940002  125.940002  127.099998  63092900   \n",
       "6 2021-05-25  127.820000  128.320007  126.320000  126.900002  72009500   \n",
       "7 2021-05-26  126.959999  127.389999  126.419998  126.849998  56575900   \n",
       "8 2021-05-27  126.440002  127.639999  125.080002  125.279999  94625600   \n",
       "9 2021-05-28  125.570000  125.800003  124.550003  124.610001  71232700   \n",
       "\n",
       "   Dividends  Stock Splits  \n",
       "0          0             0  \n",
       "1          0             0  \n",
       "2          0             0  \n",
       "3          0             0  \n",
       "4          0             0  \n",
       "5          0             0  \n",
       "6          0             0  \n",
       "7          0             0  \n",
       "8          0             0  \n",
       "9          0             0  "
      ],
      "text/html": "<div>\n<style scoped>\n    .dataframe tbody tr th:only-of-type {\n        vertical-align: middle;\n    }\n\n    .dataframe tbody tr th {\n        vertical-align: top;\n    }\n\n    .dataframe thead th {\n        text-align: right;\n    }\n</style>\n<table border=\"1\" class=\"dataframe\">\n  <thead>\n    <tr style=\"text-align: right;\">\n      <th></th>\n      <th>Date</th>\n      <th>Open</th>\n      <th>High</th>\n      <th>Low</th>\n      <th>Close</th>\n      <th>Volume</th>\n      <th>Dividends</th>\n      <th>Stock Splits</th>\n    </tr>\n  </thead>\n  <tbody>\n    <tr>\n      <th>0</th>\n      <td>2021-05-17</td>\n      <td>126.820000</td>\n      <td>126.930000</td>\n      <td>125.169998</td>\n      <td>126.269997</td>\n      <td>74244600</td>\n      <td>0</td>\n      <td>0</td>\n    </tr>\n    <tr>\n      <th>1</th>\n      <td>2021-05-18</td>\n      <td>126.559998</td>\n      <td>126.989998</td>\n      <td>124.779999</td>\n      <td>124.849998</td>\n      <td>63342900</td>\n      <td>0</td>\n      <td>0</td>\n    </tr>\n    <tr>\n      <th>2</th>\n      <td>2021-05-19</td>\n      <td>123.160004</td>\n      <td>124.919998</td>\n      <td>122.860001</td>\n      <td>124.690002</td>\n      <td>92612000</td>\n      <td>0</td>\n      <td>0</td>\n    </tr>\n    <tr>\n      <th>3</th>\n      <td>2021-05-20</td>\n      <td>125.230003</td>\n      <td>127.720001</td>\n      <td>125.099998</td>\n      <td>127.309998</td>\n      <td>76756000</td>\n      <td>0</td>\n      <td>0</td>\n    </tr>\n    <tr>\n      <th>4</th>\n      <td>2021-05-21</td>\n      <td>127.820000</td>\n      <td>128.000000</td>\n      <td>125.209999</td>\n      <td>125.430000</td>\n      <td>79209300</td>\n      <td>0</td>\n      <td>0</td>\n    </tr>\n    <tr>\n      <th>5</th>\n      <td>2021-05-24</td>\n      <td>126.010002</td>\n      <td>127.940002</td>\n      <td>125.940002</td>\n      <td>127.099998</td>\n      <td>63092900</td>\n      <td>0</td>\n      <td>0</td>\n    </tr>\n    <tr>\n      <th>6</th>\n      <td>2021-05-25</td>\n      <td>127.820000</td>\n      <td>128.320007</td>\n      <td>126.320000</td>\n      <td>126.900002</td>\n      <td>72009500</td>\n      <td>0</td>\n      <td>0</td>\n    </tr>\n    <tr>\n      <th>7</th>\n      <td>2021-05-26</td>\n      <td>126.959999</td>\n      <td>127.389999</td>\n      <td>126.419998</td>\n      <td>126.849998</td>\n      <td>56575900</td>\n      <td>0</td>\n      <td>0</td>\n    </tr>\n    <tr>\n      <th>8</th>\n      <td>2021-05-27</td>\n      <td>126.440002</td>\n      <td>127.639999</td>\n      <td>125.080002</td>\n      <td>125.279999</td>\n      <td>94625600</td>\n      <td>0</td>\n      <td>0</td>\n    </tr>\n    <tr>\n      <th>9</th>\n      <td>2021-05-28</td>\n      <td>125.570000</td>\n      <td>125.800003</td>\n      <td>124.550003</td>\n      <td>124.610001</td>\n      <td>71232700</td>\n      <td>0</td>\n      <td>0</td>\n    </tr>\n  </tbody>\n</table>\n</div>"
     },
     "metadata": {},
     "execution_count": 34
    }
   ],
   "source": [
    "#Dateが列ではなく行になっているので列に戻す\n",
    "hist = hist.reset_index()\n",
    "hist"
   ]
  },
  {
   "cell_type": "code",
   "execution_count": null,
   "metadata": {},
   "outputs": [],
   "source": []
  }
 ],
 "metadata": {
  "kernelspec": {
   "name": "python385jvsc74a57bd0cafe12590b0394544c4e51762f6e4dc4ec8288ca1fb4c88ceee068b764b0973c",
   "display_name": "Python 3.8.5 64-bit ('base': conda)"
  },
  "language_info": {
   "codemirror_mode": {
    "name": "ipython",
    "version": 3
   },
   "file_extension": ".py",
   "mimetype": "text/x-python",
   "name": "python",
   "nbconvert_exporter": "python",
   "pygments_lexer": "ipython3",
   "version": "3.8.5"
  },
  "metadata": {
   "interpreter": {
    "hash": "cafe12590b0394544c4e51762f6e4dc4ec8288ca1fb4c88ceee068b764b0973c"
   }
  }
 },
 "nbformat": 4,
 "nbformat_minor": 4
}